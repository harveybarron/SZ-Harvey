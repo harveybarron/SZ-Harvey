{
 "cells": [
  {
   "cell_type": "code",
   "execution_count": 1,
   "id": "cb1c075f",
   "metadata": {},
   "outputs": [],
   "source": [
    "import numpy as np\n",
    "from astropy.io import fits\n",
    "import Functions\n",
    "import matplotlib.pyplot as plt\n",
    "import skimage.io\n",
    "import skimage.filters\n",
    "import pymaster as nmt\n",
    "import pysap"
   ]
  },
  {
   "cell_type": "code",
   "execution_count": 2,
   "id": "54f5373a",
   "metadata": {},
   "outputs": [],
   "source": [
    "hudl = fits.open('ICM_old/data/map2048_MILCA_Coma_20deg_G.fits')\n",
    "data = hudl[1].data\n",
    "hudl1 = fits.open('Coma_ymap.fits')\n",
    "data1 = hudl1[1].data\n",
    "norm_y_fluc = np.loadtxt('ICM_old/data/normalised_y_fluc.txt')\n",
    "norm_y_fluc_gaussianblur = np.loadtxt('data/normalised_y_fluc_gaussianblur.txt')\n"
   ]
  },
  {
   "cell_type": "code",
   "execution_count": 3,
   "id": "56b23849",
   "metadata": {},
   "outputs": [
    {
     "ename": "AttributeError",
     "evalue": "'int' object has no attribute 'all'",
     "output_type": "error",
     "traceback": [
      "\u001b[0;31m---------------------------------------------------------------------------\u001b[0m",
      "\u001b[0;31mAttributeError\u001b[0m                            Traceback (most recent call last)",
      "Cell \u001b[0;32mIn [3], line 1\u001b[0m\n\u001b[0;32m----> 1\u001b[0m y_fluc_ellipse, y_fluc_norm_ellipse, y_smooth_ellipse \u001b[38;5;241m=\u001b[39m \u001b[43mFunctions\u001b[49m\u001b[38;5;241;43m.\u001b[39;49m\u001b[43mget_fluctuations_ellipse\u001b[49m\u001b[43m(\u001b[49m\u001b[43mdata\u001b[49m\u001b[43m,\u001b[49m\u001b[43m \u001b[49m\u001b[43m[\u001b[49m\u001b[38;5;241;43m352.42445296\u001b[39;49m\u001b[43m,\u001b[49m\u001b[38;5;241;43m349.85768166\u001b[39;49m\u001b[43m \u001b[49m\u001b[43m,\u001b[49m\u001b[38;5;241;43m1\u001b[39;49m\u001b[43m,\u001b[49m\u001b[38;5;241;43m0\u001b[39;49m\u001b[43m]\u001b[49m\u001b[43m,\u001b[49m\u001b[43m \u001b[49m\u001b[38;5;241;43m1.7177432059\u001b[39;49m\u001b[43m,\u001b[49m\u001b[43m \u001b[49m\u001b[38;5;241;43m700\u001b[39;49m\u001b[43m,\u001b[49m\u001b[43m \u001b[49m\u001b[38;5;241;43m700\u001b[39;49m\u001b[43m,\u001b[49m\u001b[43m \u001b[49m\u001b[38;5;241;43m240\u001b[39;49m\u001b[43m)\u001b[49m\n\u001b[1;32m      2\u001b[0m y_fluc_gaussian, y_fluc_norm_gaussian, y_smooth_gaussian \u001b[38;5;241m=\u001b[39m Functions\u001b[38;5;241m.\u001b[39mget_fluctuations_gaussian(data, \u001b[38;5;241m5\u001b[39m)\n\u001b[1;32m      3\u001b[0m y_fluc_wavelet, y_fluc_norm_wavelet, y_smooth_wavelet \u001b[38;5;241m=\u001b[39m Functions\u001b[38;5;241m.\u001b[39mget_fluctuations_wavelet(data, \u001b[38;5;241m1\u001b[39m,)\n",
      "File \u001b[0;32m/mnt/c/users/harvey/pycharmprojects/sz-harvey/Functions.py:78\u001b[0m, in \u001b[0;36mget_fluctuations_ellipse\u001b[0;34m(data, elliptical_model_vals, pixsize, NAXIS1, NAXIS2, image_length, data_g)\u001b[0m\n\u001b[1;32m     66\u001b[0m \u001b[38;5;28;01mdef\u001b[39;00m \u001b[38;5;21mget_fluctuations_ellipse\u001b[39m(data, elliptical_model_vals, pixsize, NAXIS1, NAXIS2, image_length, data_g\u001b[38;5;241m=\u001b[39m\u001b[38;5;241m0\u001b[39m):\n\u001b[1;32m     67\u001b[0m     \u001b[38;5;124;03m\"\"\"\u001b[39;00m\n\u001b[1;32m     68\u001b[0m \u001b[38;5;124;03m    params:\u001b[39;00m\n\u001b[1;32m     69\u001b[0m \u001b[38;5;124;03m        -> data: fit.open()[1].data\u001b[39;00m\n\u001b[0;32m   (...)\u001b[0m\n\u001b[1;32m     76\u001b[0m \u001b[38;5;124;03m        -> image_length=120*2 #arcmin\u001b[39;00m\n\u001b[1;32m     77\u001b[0m \u001b[38;5;124;03m    \"\"\"\u001b[39;00m\n\u001b[0;32m---> 78\u001b[0m     \u001b[38;5;28;01mif\u001b[39;00m \u001b[43mdata_g\u001b[49m\u001b[38;5;241;43m.\u001b[39;49m\u001b[43mall\u001b[49m() \u001b[38;5;241m==\u001b[39m \u001b[38;5;241m0\u001b[39m:\n\u001b[1;32m     79\u001b[0m         data_g \u001b[38;5;241m=\u001b[39m data\n\u001b[1;32m     81\u001b[0m     rs, ys, step_size, maxval, ellipse \u001b[38;5;241m=\u001b[39m get_2Dys_in_annuli(data, elliptical_model_vals, pixsize)\n",
      "\u001b[0;31mAttributeError\u001b[0m: 'int' object has no attribute 'all'"
     ]
    }
   ],
   "source": [
    "y_fluc_ellipse, y_fluc_norm_ellipse, y_smooth_ellipse = Functions.get_fluctuations_ellipse(data, [352.42445296,349.85768166 ,1,0], 1.7177432059, 700, 700, 240)\n",
    "y_fluc_gaussian, y_fluc_norm_gaussian, y_smooth_gaussian = Functions.get_fluctuations_gaussian(data, 5)\n",
    "y_fluc_wavelet, y_fluc_norm_wavelet, y_smooth_wavelet = Functions.get_fluctuations_wavelet(data, 1,)"
   ]
  },
  {
   "cell_type": "code",
   "execution_count": 4,
   "id": "cc905d14",
   "metadata": {},
   "outputs": [
    {
     "ename": "ValueError",
     "evalue": "vmin, vcenter, and vmax must be in ascending order",
     "output_type": "error",
     "traceback": [
      "\u001b[0;31m---------------------------------------------------------------------------\u001b[0m",
      "\u001b[0;31mValueError\u001b[0m                                Traceback (most recent call last)",
      "Cell \u001b[0;32mIn [4], line 1\u001b[0m\n\u001b[0;32m----> 1\u001b[0m \u001b[43mFunctions\u001b[49m\u001b[38;5;241;43m.\u001b[39;49m\u001b[43mplot_y_fluc\u001b[49m\u001b[43m(\u001b[49m\u001b[43mdata1\u001b[49m\u001b[43m)\u001b[49m\n\u001b[1;32m      2\u001b[0m Functions\u001b[38;5;241m.\u001b[39mplot_y_fluc(y_fluc_gaussian[\u001b[38;5;241m279\u001b[39m:\u001b[38;5;241m419\u001b[39m,\u001b[38;5;241m282\u001b[39m:\u001b[38;5;241m422\u001b[39m])\n\u001b[1;32m      3\u001b[0m Functions\u001b[38;5;241m.\u001b[39mplot_y_fluc(y_fluc_wavelet[\u001b[38;5;241m279\u001b[39m:\u001b[38;5;241m419\u001b[39m,\u001b[38;5;241m282\u001b[39m:\u001b[38;5;241m422\u001b[39m])\n",
      "File \u001b[0;32m/mnt/c/users/harvey/pycharmprojects/sz-harvey/Functions.py:272\u001b[0m, in \u001b[0;36mplot_y_fluc\u001b[0;34m(y_fluc)\u001b[0m\n\u001b[1;32m    269\u001b[0m plt\u001b[38;5;241m.\u001b[39mfigure()\n\u001b[1;32m    270\u001b[0m \u001b[38;5;66;03m#plt.xticks(ticks=t11, labels=x_ticks, size='small')\u001b[39;00m\n\u001b[1;32m    271\u001b[0m \u001b[38;5;66;03m#plt.yticks(ticks=t11, labels=y_ticks, size='small')\u001b[39;00m\n\u001b[0;32m--> 272\u001b[0m norm \u001b[38;5;241m=\u001b[39m \u001b[43mTwoSlopeNorm\u001b[49m\u001b[43m(\u001b[49m\u001b[43mvmin\u001b[49m\u001b[38;5;241;43m=\u001b[39;49m\u001b[43mnp\u001b[49m\u001b[38;5;241;43m.\u001b[39;49m\u001b[43mmaximum\u001b[49m\u001b[43m(\u001b[49m\u001b[38;5;241;43m-\u001b[39;49m\u001b[38;5;241;43m1.5\u001b[39;49m\u001b[43m,\u001b[49m\u001b[43my_fluc\u001b[49m\u001b[38;5;241;43m.\u001b[39;49m\u001b[43mmin\u001b[49m\u001b[43m(\u001b[49m\u001b[43m)\u001b[49m\u001b[43m)\u001b[49m\u001b[43m,\u001b[49m\u001b[43m \u001b[49m\u001b[43mvcenter\u001b[49m\u001b[38;5;241;43m=\u001b[39;49m\u001b[38;5;241;43m0\u001b[39;49m\u001b[43m,\u001b[49m\u001b[43m \u001b[49m\u001b[43mvmax\u001b[49m\u001b[38;5;241;43m=\u001b[39;49m\u001b[43mnp\u001b[49m\u001b[38;5;241;43m.\u001b[39;49m\u001b[43mminimum\u001b[49m\u001b[43m(\u001b[49m\u001b[38;5;241;43m1.5\u001b[39;49m\u001b[43m,\u001b[49m\u001b[43my_fluc\u001b[49m\u001b[38;5;241;43m.\u001b[39;49m\u001b[43mmax\u001b[49m\u001b[43m(\u001b[49m\u001b[43m)\u001b[49m\u001b[43m)\u001b[49m\u001b[43m)\u001b[49m\n\u001b[1;32m    273\u001b[0m pc \u001b[38;5;241m=\u001b[39m plt\u001b[38;5;241m.\u001b[39mpcolormesh(y_fluc, norm\u001b[38;5;241m=\u001b[39mnorm, cmap\u001b[38;5;241m=\u001b[39m\u001b[38;5;124m\"\u001b[39m\u001b[38;5;124mseismic\u001b[39m\u001b[38;5;124m\"\u001b[39m)\n\u001b[1;32m    274\u001b[0m plt\u001b[38;5;241m.\u001b[39mimshow(y_fluc, cmap \u001b[38;5;241m=\u001b[39m \u001b[38;5;124m'\u001b[39m\u001b[38;5;124mseismic\u001b[39m\u001b[38;5;124m'\u001b[39m)\n",
      "File \u001b[0;32m~/miniconda3/envs/pysap/lib/python3.9/site-packages/matplotlib/colors.py:1430\u001b[0m, in \u001b[0;36mTwoSlopeNorm.__init__\u001b[0;34m(self, vcenter, vmin, vmax)\u001b[0m\n\u001b[1;32m   1427\u001b[0m     \u001b[38;5;28;01mraise\u001b[39;00m \u001b[38;5;167;01mValueError\u001b[39;00m(\u001b[38;5;124m'\u001b[39m\u001b[38;5;124mvmin, vcenter, and vmax must be in \u001b[39m\u001b[38;5;124m'\u001b[39m\n\u001b[1;32m   1428\u001b[0m                      \u001b[38;5;124m'\u001b[39m\u001b[38;5;124mascending order\u001b[39m\u001b[38;5;124m'\u001b[39m)\n\u001b[1;32m   1429\u001b[0m \u001b[38;5;28;01mif\u001b[39;00m vcenter \u001b[38;5;129;01mis\u001b[39;00m \u001b[38;5;129;01mnot\u001b[39;00m \u001b[38;5;28;01mNone\u001b[39;00m \u001b[38;5;129;01mand\u001b[39;00m vmin \u001b[38;5;129;01mis\u001b[39;00m \u001b[38;5;129;01mnot\u001b[39;00m \u001b[38;5;28;01mNone\u001b[39;00m \u001b[38;5;129;01mand\u001b[39;00m vcenter \u001b[38;5;241m<\u001b[39m\u001b[38;5;241m=\u001b[39m vmin:\n\u001b[0;32m-> 1430\u001b[0m     \u001b[38;5;28;01mraise\u001b[39;00m \u001b[38;5;167;01mValueError\u001b[39;00m(\u001b[38;5;124m'\u001b[39m\u001b[38;5;124mvmin, vcenter, and vmax must be in \u001b[39m\u001b[38;5;124m'\u001b[39m\n\u001b[1;32m   1431\u001b[0m                      \u001b[38;5;124m'\u001b[39m\u001b[38;5;124mascending order\u001b[39m\u001b[38;5;124m'\u001b[39m)\n",
      "\u001b[0;31mValueError\u001b[0m: vmin, vcenter, and vmax must be in ascending order"
     ]
    },
    {
     "data": {
      "text/plain": [
       "<Figure size 640x480 with 0 Axes>"
      ]
     },
     "metadata": {},
     "output_type": "display_data"
    }
   ],
   "source": [
    "Functions.plot_y_fluc(data1)\n",
    "Functions.plot_y_fluc(y_fluc_gaussian[279:419,282:422])\n",
    "Functions.plot_y_fluc(y_fluc_wavelet[279:419,282:422])\n",
    "Functions.plot_y_fluc(y_fluc_norm_ellipse)\n",
    "Functions.plot_y_fluc(y_fluc_norm_gaussian[279:419,282:422])\n",
    "Functions.plot_y_fluc(y_fluc_norm_wavelet[279:419,282:422])\n",
    "plt.imshow(y_fluc_norm_wavelet[279:419,282:422],vmin=np.min(y_fluc_norm_gaussian[279:419,282:422]),vmax=np.max(y_fluc_norm_gaussian[279:419,282:422]))"
   ]
  },
  {
   "cell_type": "code",
   "execution_count": null,
   "id": "f284648f",
   "metadata": {},
   "outputs": [],
   "source": [
    "plt.plot(y_smooth_ellipse[0,70:])"
   ]
  },
  {
   "cell_type": "code",
   "execution_count": null,
   "id": "d49ce656",
   "metadata": {},
   "outputs": [],
   "source": [
    "plt.imshow(y_smooth_gaussian[279:419,282:422])"
   ]
  },
  {
   "cell_type": "code",
   "execution_count": null,
   "id": "8022c946",
   "metadata": {},
   "outputs": [],
   "source": [
    "#plt.imshow(y_smooth_wavelet[279:419,282:422])\n",
    "temp = (y_smooth_wavelet - y_smooth_gaussian)\n",
    "plt.imshow(temp[279:419,282:422])\n",
    "#plt.hist(temp.flatten(),bins=64)\n",
    "print(np.min(temp[279:419,282:422]))\n",
    "print(np.max(temp[279:419,282:422]))"
   ]
  },
  {
   "cell_type": "code",
   "execution_count": null,
   "id": "5d8fb53a",
   "metadata": {},
   "outputs": [],
   "source": [
    "#g_amp, g_std_amp, g_cl00_uncoupled, g_covar, g_ells_uncoupled = Functions.namaster_spectrum(y_fluc_norm_gaussian, 6, 500, 2000, 27.052, 1.7177432059, 15, 60)\n",
    "\n",
    "amp, std_amp, cl00_uncoupled, covar, ells_uncoupled = Functions.namaster_spectrum(y_fluc_gaussian[279:419,282:422], 6, 500, 2000, 27.052, 1.7177432059, 15, 60)\n",
    "plt.figure()\n",
    "plt.xscale('log')\n",
    "lambdas_inv = ells_uncoupled/(27.052*60*180)\n",
    "#plt.plot(lambdas_inv, amp*1000000, 'r.', label='Amplitude of power spectrum')\n",
    "plt.errorbar(lambdas_inv,amp*1000000, yerr=std_amp*1000000, fmt='b.',ecolor='black',elinewidth=1,capsize = 4,label='Amplitude of power spectrum')\n",
    "#plt.plot(lambdas_inv_curve, curve, 'b', \n",
    "#          label='Best fit: Power law (power = %1.2f)'%p_fit)\n",
    "plt.errorbar((0.000461089,0.00056334,0.000717526,0.000974452,0.001333839,0.001846432),(2.89673913,3.336956522,3.798913043,4.027173913,3.586956522,2.934782609),yerr=([0.380434783,0.434782609,0.505434783,0.586956522,0.679347826,0.657608696],[0.380434783,0.440217391,0.505434783,0.592391304,0.684782609,0.663043478]), fmt='r.',ecolor='black',elinewidth=1,capsize = 4)\n",
    "\n",
    "plt.xlabel(\"$1/\\lambda$ ($kpc^{-1}$)\")\n",
    "plt.ylabel(\"Amplitude of power spectrum\")\n",
    "plt.legend()\n",
    "plt.title(\"Power Spectrum of map\")\n",
    "plt.show()"
   ]
  },
  {
   "cell_type": "code",
   "execution_count": null,
   "id": "8d3a9e9e",
   "metadata": {},
   "outputs": [],
   "source": [
    "Ns = np.loadtxt(\"ICM_old/data/Ns.txt\")\n",
    "amp_pressure = np.zeros((1500,6))\n",
    "Functions.plot_pressure_spectrum(ells_uncoupled, cl00_uncoupled, Ns, amp_pressure, 27.052, std_amp)"
   ]
  },
  {
   "cell_type": "code",
   "execution_count": null,
   "id": "21950128",
   "metadata": {},
   "outputs": [],
   "source": []
  },
  {
   "cell_type": "code",
   "execution_count": null,
   "id": "11f22ced",
   "metadata": {},
   "outputs": [],
   "source": [
    "plt.figure()\n",
    "plt.loglog(Functions.radial_profile(y_smooth_gaussian[279:419,282:422],[70,70]))\n",
    "radialmean, radialstd = Functions.radial_profilestat(y_smooth_gaussian[279:419,282:422],[70,70])\n",
    "print(np.shape(radialmean[0]))\n",
    "plt.loglog(radialmean[0])\n",
    "plt.fill_between((radialmean[1][:-1]+radialmean[1][1:])/2, radialmean[0]+radialstd[0]/2,radialmean[0]-radialstd[0]/2)\n",
    "\n",
    "#plt.loglog(Functions.radial_profile(y_smooth_gaussian[279:419,282:422],[70,70]))\n",
    "#plt.loglog(Functions.radial_profile(y_smooth_wavelet,[70,70]))\n",
    "plt.show()"
   ]
  },
  {
   "cell_type": "code",
   "execution_count": 5,
   "id": "9b0635ce",
   "metadata": {},
   "outputs": [
    {
     "data": {
      "text/plain": [
       "<matplotlib.image.AxesImage at 0x7fd108070eb0>"
      ]
     },
     "execution_count": 5,
     "metadata": {},
     "output_type": "execute_result"
    },
    {
     "data": {
      "image/png": "[encoded data removed]",
      "text/plain": [
       "<Figure size 640x480 with 1 Axes>"
      ]
     },
     "metadata": {},
     "output_type": "display_data"
    }
   ],
   "source": [
    "plt.imshow(data1)"
   ]
  },
  {
   "cell_type": "code",
   "execution_count": null,
   "id": "12e3da23",
   "metadata": {},
   "outputs": [],
   "source": []
  },
  {
   "cell_type": "code",
   "execution_count": null,
   "id": "9af006f1",
   "metadata": {},
   "outputs": [],
   "source": []
  }
 ],
 "metadata": {
  "kernelspec": {
   "display_name": "Python 3 (ipykernel)",
   "language": "python",
   "name": "python3"
  },
  "language_info": {
   "codemirror_mode": {
    "name": "ipython",
    "version": 3
   },
   "file_extension": ".py",
   "mimetype": "text/x-python",
   "name": "python",
   "nbconvert_exporter": "python",
   "pygments_lexer": "ipython3",
   "version": "3.9.13"
  }
 },
 "nbformat": 4,
 "nbformat_minor": 5
}
