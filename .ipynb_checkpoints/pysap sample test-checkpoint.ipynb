{
 "cells": [
  {
   "cell_type": "code",
   "execution_count": 1,
   "metadata": {},
   "outputs": [],
   "source": [
    "%matplotlib inline"
   ]
  },
  {
   "cell_type": "markdown",
   "metadata": {},
   "source": [
    "\n",
    "Anstronomic/Neuroimaging common structure overview\n",
    "==================================================\n",
    "\n",
    "Credit: A Grigis\n",
    "\n",
    "pysap is a Python package related to sparsity and its application in\n",
    "astronomical or mediacal data analysis. This package also bind the 'sparse2d'\n",
    "C++ library that allows fast and extended sparse decomposition, denoising and\n",
    "deconvolution. It is accessible to everybody, and is reusable in various\n",
    "contexts. The project is hosted on github: https://github.com/CEA-COSMIC/pysap.\n",
    "\n",
    "First checks\n",
    "------------\n",
    "\n",
    "In order to test if the 'pysap' package is installed on your machine, you can\n",
    "check the package version\n",
    "\n"
   ]
  },
  {
   "cell_type": "code",
   "execution_count": 1,
   "metadata": {},
   "outputs": [
    {
     "name": "stdout",
     "output_type": "stream",
     "text": [
      "0.0.6\n"
     ]
    }
   ],
   "source": [
    "import pysap\n",
    "\n",
    "print(pysap.__version__)"
   ]
  },
  {
   "cell_type": "markdown",
   "metadata": {},
   "source": [
    "Now you can run the the configuration info function to see if all the\n",
    "dependencies are installed properly:\n",
    "\n"
   ]
  },
  {
   "cell_type": "code",
   "execution_count": 3,
   "metadata": {},
   "outputs": [
    {
     "name": "stdout",
     "output_type": "stream",
     "text": [
      "\n",
      "                 .|'''|       /.\\      '||'''|,\n",
      "                 ||          // \\\\      ||   ||\n",
      "'||''|, '||  ||` `|'''|,    //...\\\\     ||...|'\n",
      " ||  ||  `|..||   .   ||   //     \\\\    ||\n",
      " ||..|'      ||   |...|' .//       \\\\. .||\n",
      " ||       ,  |'\n",
      ".||        ''\n",
      "\n",
      "Package version: 0.0.6\n",
      "\n",
      "License: CeCILL-B\n",
      "\n",
      "Authors: \n",
      "\n",
      "Antoine Grigis <antoine.grigis@cea.fr>\n",
      "Samuel Farrens <samuel.farrens@cea.fr>\n",
      "Jean-Luc Starck <jl.stark@cea.fr>\n",
      "Philippe Ciuciu <philippe.ciuciu@cea.fr>\n",
      "\n",
      "Dependencies: \n",
      "\n",
      "scipy          : >=1.5.4   - required | 1.9.3     installed\n",
      "numpy          : >=1.19.5  - required | 1.23.4    installed\n",
      "matplotlib     : >=3.3.4   - required | 3.6.2     installed\n",
      "astropy        : >=4.1     - required | 5.1.1     installed\n",
      "nibabel        : >=3.2.1   - required | 4.0.2     installed\n",
      "pyqtgraph      : >=0.11.1  - required | 0.13.1    installed\n",
      "progressbar2   : >=3.53.1  - required | ?         installed\n",
      "modopt         : >=1.5.1   - required | 1.6.1     installed\n",
      "scikit-learn   : >=0.24.1  - required | ?         installed\n",
      "pywt           : >=1.1.1   - required | 1.4.1     installed\n",
      "pysparse       : >=0.0.1   - required | 0.1.0     installed\n",
      "\n"
     ]
    }
   ],
   "source": [
    "import pysap.configure\n",
    "\n",
    "print(pysap.configure.info())"
   ]
  },
  {
   "cell_type": "markdown",
   "metadata": {},
   "source": [
    "Import astronomical data\n",
    "------------------------\n",
    "\n",
    "The package provides a common interface to import and visualize astronomical\n",
    "FITS dataset. It also embeds a set of toy dataset that will be used during\n",
    "this tutorial:\n",
    "\n"
   ]
  },
  {
   "cell_type": "code",
   "execution_count": null,
   "metadata": {},
   "outputs": [],
   "source": [
    "import pysap\n",
    "from pprint import pprint\n",
    "from pysap.data import get_sample_data\n",
    "\n",
    "image = get_sample_data(\"astro-fits\")\n",
    "print(image.shape, image.spacing, image.data_type)\n",
    "pprint(image.metadata)\n",
    "print(image.data.dtype)\n",
    "image.show()"
   ]
  },
  {
   "cell_type": "markdown",
   "metadata": {},
   "source": [
    "Import neuroimaging data\n",
    "------------------------\n",
    "\n",
    "The package provides a common interface to import and visualize neuroimaging\n",
    "NIFTI dataset. It also embeds a set of toy dataset that will be used during\n",
    "this tutorial:\n",
    "\n"
   ]
  },
  {
   "cell_type": "code",
   "execution_count": null,
   "metadata": {},
   "outputs": [
    {
     "name": "stdout",
     "output_type": "stream",
     "text": [
      "Downloading data from ftp://ftp.cea.fr/pub/unati/nsap/pysap/datasets/t1_localizer.nii.gz...\n",
      "[====================] 100% t1_localizer.nii.gz                     \n",
      "Download was done in 0 minutes,  43.49 seconds\n"
     ]
    }
   ],
   "source": [
    "import pysap\n",
    "from pprint import pprint\n",
    "from pysap.data import get_sample_data\n",
    "\n",
    "image = get_sample_data(\"mri-nifti\")\n",
    "image.scroll_axis = 2\n",
    "print(image.shape, image.spacing, image.data_type)\n",
    "pprint(image.metadata)\n",
    "print(image.data.dtype)\n",
    "image.show()"
   ]
  },
  {
   "cell_type": "markdown",
   "metadata": {},
   "source": [
    "Decompose/recompose an image using a fast ISAP/C++ based transform\n",
    "------------------------------------------------------------------\n",
    "\n",
    "The package provides also a common interface to the ISAP C++ software\n",
    "developped by the COSMOSTAT lab and PyWavelet. The code is optimzed and give\n",
    "access to many decompsition strategies. All the decompositions\n",
    "have been declared in a registery:\n",
    "\n"
   ]
  },
  {
   "cell_type": "code",
   "execution_count": null,
   "metadata": {},
   "outputs": [],
   "source": [
    "from pprint import pprint\n",
    "import pysap\n",
    "\n",
    "pprint(pysap.wavelist())\n",
    "pprint(pysap.wavelist(family=\"isap-3d\"))"
   ]
  },
  {
   "cell_type": "markdown",
   "metadata": {},
   "source": [
    "We illustrate the the decompose/recompose using a 'Daubechies' from pywt\n",
    "and 4 scales:\n",
    "\n"
   ]
  },
  {
   "cell_type": "code",
   "execution_count": null,
   "metadata": {},
   "outputs": [],
   "source": [
    "import pysap\n",
    "from pysap.data import get_sample_data\n",
    "\n",
    "image = get_sample_data(\"mri-slice-nifti\")\n",
    "transform_klass = pysap.load_transform(\"db3\")\n",
    "transform = transform_klass(nb_scale=4, verbose=1, padding_mode=\"symmetric\")\n",
    "transform.data = image\n",
    "transform.analysis()\n",
    "transform.show()\n",
    "rec_image = transform.synthesis()\n",
    "rec_image.show()"
   ]
  },
  {
   "cell_type": "markdown",
   "metadata": {},
   "source": [
    "We illustrate the the decompose/recompose using a 'FastCurveletTransform'\n",
    "from ISAP and 4 scales:\n",
    "\n"
   ]
  },
  {
   "cell_type": "code",
   "execution_count": null,
   "metadata": {},
   "outputs": [],
   "source": [
    "image = get_sample_data(\"mri-slice-nifti\")\n",
    "transform_klass = pysap.load_transform(\"FastCurveletTransform\")\n",
    "transform = transform_klass(nb_scale=4, verbose=1, padding_mode=\"zero\")\n",
    "transform.data = image\n",
    "transform.analysis()\n",
    "transform.show()\n",
    "rec_image = transform.synthesis()\n",
    "rec_image.show()"
   ]
  }
 ],
 "metadata": {
  "kernelspec": {
   "display_name": "Python 3 (ipykernel)",
   "language": "python",
   "name": "python3"
  },
  "language_info": {
   "codemirror_mode": {
    "name": "ipython",
    "version": 3
   },
   "file_extension": ".py",
   "mimetype": "text/x-python",
   "name": "python",
   "nbconvert_exporter": "python",
   "pygments_lexer": "ipython3",
   "version": "3.9.13"
  }
 },
 "nbformat": 4,
 "nbformat_minor": 1
}
